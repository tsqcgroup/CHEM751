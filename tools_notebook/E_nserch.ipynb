{
  "nbformat": 4,
  "nbformat_minor": 0,
  "metadata": {
    "colab": {
      "provenance": []
    },
    "kernelspec": {
      "name": "python3",
      "display_name": "Python 3"
    },
    "language_info": {
      "name": "python"
    }
  },
  "cells": [
    {
      "cell_type": "code",
      "execution_count": null,
      "metadata": {
        "id": "cUKUfk_vB_7-"
      },
      "outputs": [],
      "source": [
        " raw_data='''\n",
        "NSERCH=  0     ENERGY=    -454.6409806\n",
        "NSERCH=  1     ENERGY=    -454.6397208\n",
        "NSERCH=  2     ENERGY=    -454.6434183\n",
        "NSERCH=  3     ENERGY=    -454.6424998\n",
        "NSERCH=  4     ENERGY=    -454.6446094\n",
        "NSERCH=  5     ENERGY=    -454.6435812\n",
        "NSERCH=  6     ENERGY=    -454.6448745\n",
        "NSERCH=  7     ENERGY=    -454.6443626\n",
        "NSERCH=  8     ENERGY=    -454.6449863\n",
        "NSERCH=  9     ENERGY=    -454.6449843\n",
        "          '''"
      ]
    },
    {
      "cell_type": "code",
      "source": [
        "import matplotlib.pyplot as plt\n",
        "\n",
        "# extract last column from raw_data to array energy\n",
        "energy = []\n",
        "for line in raw_data.strip().split('\\n'):\n",
        "  parts=line.split()\n",
        "  energy.append(float(parts[3]))\n",
        "\n",
        "# set array of nserch\n",
        "nserch_values=[i for i in range(len(energy))]\n",
        "\n",
        "plt.figure(figsize=(4, 2), dpi=200)\n",
        "plt.scatter(nserch_values, energy, s=5)\n",
        "plt.xlabel('NSERCH')\n",
        "plt.ylabel('ENERGY')\n",
        "plt.title('Energy vs NSERCH')\n",
        "plt.grid(True)\n",
        "plt.show()"
      ],
      "metadata": {
        "id": "mwY5Q0bbYoLp"
      },
      "execution_count": null,
      "outputs": []
    },
    {
      "cell_type": "code",
      "source": [],
      "metadata": {
        "id": "EnycGYEMq6dB"
      },
      "execution_count": null,
      "outputs": []
    }
  ]
}