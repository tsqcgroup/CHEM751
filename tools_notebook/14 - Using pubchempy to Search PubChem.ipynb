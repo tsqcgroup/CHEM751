{
 "cells": [
  {
   "cell_type": "markdown",
   "id": "db2a5776",
   "metadata": {
    "jp-MarkdownHeadingCollapsed": true
   },
   "source": [
    "# Pubchempy is a library to automate searches to Pubchem"
   ]
  },
  {
   "cell_type": "markdown",
   "id": "a0fca06d",
   "metadata": {},
   "source": [
    "We will import it to use it.  We're going to refer to it as its nickname, \"pcp\""
   ]
  },
  {
   "cell_type": "code",
   "execution_count": 2,
   "id": "c1931c9a",
   "metadata": {},
   "outputs": [
    {
     "name": "stdout",
     "output_type": "stream",
     "text": [
      "Collecting pubchempy\n",
      "  Downloading PubChemPy-1.0.4.tar.gz (29 kB)\n",
      "  Preparing metadata (setup.py) ... \u001b[?25ldone\n",
      "\u001b[?25hBuilding wheels for collected packages: pubchempy\n",
      "\u001b[33m  DEPRECATION: Building 'pubchempy' using the legacy setup.py bdist_wheel mechanism, which will be removed in a future version. pip 25.3 will enforce this behaviour change. A possible replacement is to use the standardized build interface by setting the `--use-pep517` option, (possibly combined with `--no-build-isolation`), or adding a `pyproject.toml` file to the source tree of 'pubchempy'. Discussion can be found at https://github.com/pypa/pip/issues/6334\u001b[0m\u001b[33m\n",
      "  Building wheel for pubchempy (setup.py) ... \u001b[?25ldone\n",
      "\u001b[?25h  Created wheel for pubchempy: filename=PubChemPy-1.0.4-py3-none-any.whl size=13818 sha256=8eafcf15a701ece3f1357e173ca7573d50f435d7091b91e2aa65d151f1cf0853\n",
      "  Stored in directory: /Users/tosapornsattasathuchana/Library/Caches/pip/wheels/de/2c/0f/eacc36a5f674b71ef0d58227c40759f56a0b8332b0c9880353\n",
      "Successfully built pubchempy\n",
      "Installing collected packages: pubchempy\n",
      "Successfully installed pubchempy-1.0.4\n"
     ]
    }
   ],
   "source": [
    "# First, install the pubchempy package\n",
    "!pip install pubchempy\n",
    "\n",
    "# Then import it\n",
    "import pubchempy as pcp"
   ]
  },
  {
   "cell_type": "markdown",
   "id": "88283c40-c484-4784-9cf9-23456505bf77",
   "metadata": {},
   "source": [
    "First take a look at https://pubchem.ncbi.nlm.nih.gov/\n",
    "Look at penicillin, see the 2d/3d image, etc."
   ]
  },
  {
   "cell_type": "markdown",
   "id": "22c79fc3",
   "metadata": {
    "jp-MarkdownHeadingCollapsed": true
   },
   "source": [
    "# Let's do the same thing, in python.  This is way faster than searching by hand if you're examining 1 million molecules\n",
    "Search by name (could be name, smiles, formula) (also inchi, inchikey, sdf)"
   ]
  },
  {
   "cell_type": "code",
   "execution_count": 3,
   "id": "880a13e7",
   "metadata": {},
   "outputs": [],
   "source": [
    "results = pcp.get_compounds('penicillin','name')"
   ]
  },
  {
   "cell_type": "code",
   "execution_count": 4,
   "id": "d59e3476",
   "metadata": {},
   "outputs": [
    {
     "name": "stdout",
     "output_type": "stream",
     "text": [
      "[Compound(52946032)]\n"
     ]
    }
   ],
   "source": [
    "print (results)"
   ]
  },
  {
   "cell_type": "markdown",
   "id": "5d41bde9",
   "metadata": {},
   "source": [
    "What is this?  A list of results, there's only 1 compound in the list.\n",
    "Let's assign that one compound to a variable"
   ]
  },
  {
   "cell_type": "code",
   "execution_count": 5,
   "id": "8a599d78",
   "metadata": {},
   "outputs": [],
   "source": [
    "penicillin = results[0]"
   ]
  },
  {
   "cell_type": "markdown",
   "id": "f17300b2",
   "metadata": {},
   "source": [
    "what can we get out of this result?  use penicillin.<tab>"
   ]
  },
  {
   "cell_type": "code",
   "execution_count": 6,
   "id": "810691f5",
   "metadata": {},
   "outputs": [
    {
     "data": {
      "text/plain": [
       "Compound(52946032)"
      ]
     },
     "execution_count": 6,
     "metadata": {},
     "output_type": "execute_result"
    }
   ],
   "source": [
    "penicillin"
   ]
  },
  {
   "cell_type": "code",
   "execution_count": 7,
   "id": "48163b7c",
   "metadata": {},
   "outputs": [
    {
     "data": {
      "text/plain": [
       "52946032"
      ]
     },
     "execution_count": 7,
     "metadata": {},
     "output_type": "execute_result"
    }
   ],
   "source": [
    "penicillin.cid"
   ]
  },
  {
   "cell_type": "code",
   "execution_count": 8,
   "id": "498fb948",
   "metadata": {},
   "outputs": [
    {
     "data": {
      "text/plain": [
       "'CC1(C(N2CC(C2S1)NC(=O)CC3=CC=CC=C3)C(=O)O)C'"
      ]
     },
     "execution_count": 8,
     "metadata": {},
     "output_type": "execute_result"
    }
   ],
   "source": [
    "penicillin.canonical_smiles"
   ]
  },
  {
   "cell_type": "code",
   "execution_count": 9,
   "id": "e0db811e",
   "metadata": {},
   "outputs": [
    {
     "data": {
      "text/plain": [
       "'CC1([C@@H](N2C[C@H]([C@H]2S1)NC(=O)CC3=CC=CC=C3)C(=O)O)C'"
      ]
     },
     "execution_count": 9,
     "metadata": {},
     "output_type": "execute_result"
    }
   ],
   "source": [
    "penicillin.isomeric_smiles"
   ]
  },
  {
   "cell_type": "code",
   "execution_count": 10,
   "id": "5ddfc5d3",
   "metadata": {},
   "outputs": [
    {
     "data": {
      "text/plain": [
       "'(2S,5R,6R)-3,3-dimethyl-6-[(2-phenylacetyl)amino]-4-thia-1-azabicyclo[3.2.0]heptane-2-carboxylic acid'"
      ]
     },
     "execution_count": 10,
     "metadata": {},
     "output_type": "execute_result"
    }
   ],
   "source": [
    "penicillin.iupac_name"
   ]
  },
  {
   "cell_type": "code",
   "execution_count": 11,
   "id": "e4c82898",
   "metadata": {},
   "outputs": [
    {
     "data": {
      "text/plain": [
       "[Atom(1, S),\n",
       " Atom(2, O),\n",
       " Atom(3, O),\n",
       " Atom(4, O),\n",
       " Atom(5, N),\n",
       " Atom(6, N),\n",
       " Atom(7, C),\n",
       " Atom(8, C),\n",
       " Atom(9, C),\n",
       " Atom(10, C),\n",
       " Atom(11, C),\n",
       " Atom(12, C),\n",
       " Atom(13, C),\n",
       " Atom(14, C),\n",
       " Atom(15, C),\n",
       " Atom(16, C),\n",
       " Atom(17, C),\n",
       " Atom(18, C),\n",
       " Atom(19, C),\n",
       " Atom(20, C),\n",
       " Atom(21, C),\n",
       " Atom(22, C),\n",
       " Atom(23, H),\n",
       " Atom(24, H),\n",
       " Atom(25, H),\n",
       " Atom(26, H),\n",
       " Atom(27, H),\n",
       " Atom(28, H),\n",
       " Atom(29, H),\n",
       " Atom(30, H),\n",
       " Atom(31, H),\n",
       " Atom(32, H),\n",
       " Atom(33, H),\n",
       " Atom(34, H),\n",
       " Atom(35, H),\n",
       " Atom(36, H),\n",
       " Atom(37, H),\n",
       " Atom(38, H),\n",
       " Atom(39, H),\n",
       " Atom(40, H),\n",
       " Atom(41, H),\n",
       " Atom(42, H)]"
      ]
     },
     "execution_count": 11,
     "metadata": {},
     "output_type": "execute_result"
    }
   ],
   "source": [
    "penicillin.atoms"
   ]
  },
  {
   "cell_type": "code",
   "execution_count": 12,
   "id": "17b256ca",
   "metadata": {},
   "outputs": [
    {
     "data": {
      "text/plain": [
       "42"
      ]
     },
     "execution_count": 12,
     "metadata": {},
     "output_type": "execute_result"
    }
   ],
   "source": [
    "len(penicillin.atoms)"
   ]
  },
  {
   "cell_type": "code",
   "execution_count": 13,
   "id": "8df52536",
   "metadata": {},
   "outputs": [
    {
     "data": {
      "text/plain": [
       "[Bond(1, 7, 1),\n",
       " Bond(1, 11, 1),\n",
       " Bond(2, 14, 1),\n",
       " Bond(2, 35, 1),\n",
       " Bond(3, 14, 2),\n",
       " Bond(4, 15, 2),\n",
       " Bond(5, 7, 1),\n",
       " Bond(5, 9, 1),\n",
       " Bond(5, 10, 1),\n",
       " Bond(6, 8, 1),\n",
       " Bond(6, 15, 1),\n",
       " Bond(6, 34, 1),\n",
       " Bond(7, 8, 1),\n",
       " Bond(7, 23, 1),\n",
       " Bond(8, 10, 1),\n",
       " Bond(8, 24, 1),\n",
       " Bond(9, 11, 1),\n",
       " Bond(9, 14, 1),\n",
       " Bond(9, 25, 1),\n",
       " Bond(10, 26, 1),\n",
       " Bond(10, 27, 1),\n",
       " Bond(11, 12, 1),\n",
       " Bond(11, 13, 1),\n",
       " Bond(12, 28, 1),\n",
       " Bond(12, 29, 1),\n",
       " Bond(12, 30, 1),\n",
       " Bond(13, 31, 1),\n",
       " Bond(13, 32, 1),\n",
       " Bond(13, 33, 1),\n",
       " Bond(15, 16, 1),\n",
       " Bond(16, 17, 1),\n",
       " Bond(16, 36, 1),\n",
       " Bond(16, 37, 1),\n",
       " Bond(17, 18, 2),\n",
       " Bond(17, 19, 1),\n",
       " Bond(18, 20, 1),\n",
       " Bond(18, 38, 1),\n",
       " Bond(19, 21, 2),\n",
       " Bond(19, 39, 1),\n",
       " Bond(20, 22, 2),\n",
       " Bond(20, 40, 1),\n",
       " Bond(21, 22, 1),\n",
       " Bond(21, 41, 1),\n",
       " Bond(22, 42, 1)]"
      ]
     },
     "execution_count": 13,
     "metadata": {},
     "output_type": "execute_result"
    }
   ],
   "source": [
    "penicillin.bonds"
   ]
  },
  {
   "cell_type": "code",
   "execution_count": 14,
   "id": "c0f9d71f",
   "metadata": {},
   "outputs": [
    {
     "data": {
      "text/plain": [
       "'C16H20N2O3S'"
      ]
     },
     "execution_count": 14,
     "metadata": {},
     "output_type": "execute_result"
    }
   ],
   "source": [
    "penicillin.molecular_formula"
   ]
  },
  {
   "cell_type": "code",
   "execution_count": 15,
   "id": "3687a703",
   "metadata": {},
   "outputs": [
    {
     "data": {
      "text/plain": [
       "'320.4'"
      ]
     },
     "execution_count": 15,
     "metadata": {},
     "output_type": "execute_result"
    }
   ],
   "source": [
    "penicillin.molecular_weight"
   ]
  },
  {
   "cell_type": "code",
   "execution_count": 16,
   "id": "60b6384e",
   "metadata": {},
   "outputs": [
    {
     "data": {
      "text/plain": [
       "{'id': {'id': {'cid': 52946032}},\n",
       " 'atoms': {'aid': [1,\n",
       "   2,\n",
       "   3,\n",
       "   4,\n",
       "   5,\n",
       "   6,\n",
       "   7,\n",
       "   8,\n",
       "   9,\n",
       "   10,\n",
       "   11,\n",
       "   12,\n",
       "   13,\n",
       "   14,\n",
       "   15,\n",
       "   16,\n",
       "   17,\n",
       "   18,\n",
       "   19,\n",
       "   20,\n",
       "   21,\n",
       "   22,\n",
       "   23,\n",
       "   24,\n",
       "   25,\n",
       "   26,\n",
       "   27,\n",
       "   28,\n",
       "   29,\n",
       "   30,\n",
       "   31,\n",
       "   32,\n",
       "   33,\n",
       "   34,\n",
       "   35,\n",
       "   36,\n",
       "   37,\n",
       "   38,\n",
       "   39,\n",
       "   40,\n",
       "   41,\n",
       "   42],\n",
       "  'element': [16,\n",
       "   8,\n",
       "   8,\n",
       "   8,\n",
       "   7,\n",
       "   7,\n",
       "   6,\n",
       "   6,\n",
       "   6,\n",
       "   6,\n",
       "   6,\n",
       "   6,\n",
       "   6,\n",
       "   6,\n",
       "   6,\n",
       "   6,\n",
       "   6,\n",
       "   6,\n",
       "   6,\n",
       "   6,\n",
       "   6,\n",
       "   6,\n",
       "   1,\n",
       "   1,\n",
       "   1,\n",
       "   1,\n",
       "   1,\n",
       "   1,\n",
       "   1,\n",
       "   1,\n",
       "   1,\n",
       "   1,\n",
       "   1,\n",
       "   1,\n",
       "   1,\n",
       "   1,\n",
       "   1,\n",
       "   1,\n",
       "   1,\n",
       "   1,\n",
       "   1,\n",
       "   1]},\n",
       " 'bonds': {'aid1': [1,\n",
       "   1,\n",
       "   2,\n",
       "   2,\n",
       "   3,\n",
       "   4,\n",
       "   5,\n",
       "   5,\n",
       "   5,\n",
       "   6,\n",
       "   6,\n",
       "   6,\n",
       "   7,\n",
       "   7,\n",
       "   8,\n",
       "   8,\n",
       "   9,\n",
       "   9,\n",
       "   9,\n",
       "   10,\n",
       "   10,\n",
       "   11,\n",
       "   11,\n",
       "   12,\n",
       "   12,\n",
       "   12,\n",
       "   13,\n",
       "   13,\n",
       "   13,\n",
       "   15,\n",
       "   16,\n",
       "   16,\n",
       "   16,\n",
       "   17,\n",
       "   17,\n",
       "   18,\n",
       "   18,\n",
       "   19,\n",
       "   19,\n",
       "   20,\n",
       "   20,\n",
       "   21,\n",
       "   21,\n",
       "   22],\n",
       "  'aid2': [7,\n",
       "   11,\n",
       "   14,\n",
       "   35,\n",
       "   14,\n",
       "   15,\n",
       "   7,\n",
       "   9,\n",
       "   10,\n",
       "   8,\n",
       "   15,\n",
       "   34,\n",
       "   8,\n",
       "   23,\n",
       "   10,\n",
       "   24,\n",
       "   11,\n",
       "   14,\n",
       "   25,\n",
       "   26,\n",
       "   27,\n",
       "   12,\n",
       "   13,\n",
       "   28,\n",
       "   29,\n",
       "   30,\n",
       "   31,\n",
       "   32,\n",
       "   33,\n",
       "   16,\n",
       "   17,\n",
       "   36,\n",
       "   37,\n",
       "   18,\n",
       "   19,\n",
       "   20,\n",
       "   38,\n",
       "   21,\n",
       "   39,\n",
       "   22,\n",
       "   40,\n",
       "   22,\n",
       "   41,\n",
       "   42],\n",
       "  'order': [1,\n",
       "   1,\n",
       "   1,\n",
       "   1,\n",
       "   2,\n",
       "   2,\n",
       "   1,\n",
       "   1,\n",
       "   1,\n",
       "   1,\n",
       "   1,\n",
       "   1,\n",
       "   1,\n",
       "   1,\n",
       "   1,\n",
       "   1,\n",
       "   1,\n",
       "   1,\n",
       "   1,\n",
       "   1,\n",
       "   1,\n",
       "   1,\n",
       "   1,\n",
       "   1,\n",
       "   1,\n",
       "   1,\n",
       "   1,\n",
       "   1,\n",
       "   1,\n",
       "   1,\n",
       "   1,\n",
       "   1,\n",
       "   1,\n",
       "   2,\n",
       "   1,\n",
       "   1,\n",
       "   1,\n",
       "   2,\n",
       "   1,\n",
       "   2,\n",
       "   1,\n",
       "   1,\n",
       "   1,\n",
       "   1]},\n",
       " 'stereo': [{'tetrahedral': {'center': 7,\n",
       "    'above': 1,\n",
       "    'top': 5,\n",
       "    'bottom': 8,\n",
       "    'below': 23,\n",
       "    'parity': 1,\n",
       "    'type': 1}},\n",
       "  {'tetrahedral': {'center': 8,\n",
       "    'above': 6,\n",
       "    'top': 7,\n",
       "    'bottom': 10,\n",
       "    'below': 24,\n",
       "    'parity': 1,\n",
       "    'type': 1}},\n",
       "  {'tetrahedral': {'center': 9,\n",
       "    'above': 5,\n",
       "    'top': 14,\n",
       "    'bottom': 11,\n",
       "    'below': 25,\n",
       "    'parity': 2,\n",
       "    'type': 1}}],\n",
       " 'coords': [{'type': [1, 5, 255],\n",
       "   'aid': [1,\n",
       "    2,\n",
       "    3,\n",
       "    4,\n",
       "    5,\n",
       "    6,\n",
       "    7,\n",
       "    8,\n",
       "    9,\n",
       "    10,\n",
       "    11,\n",
       "    12,\n",
       "    13,\n",
       "    14,\n",
       "    15,\n",
       "    16,\n",
       "    17,\n",
       "    18,\n",
       "    19,\n",
       "    20,\n",
       "    21,\n",
       "    22,\n",
       "    23,\n",
       "    24,\n",
       "    25,\n",
       "    26,\n",
       "    27,\n",
       "    28,\n",
       "    29,\n",
       "    30,\n",
       "    31,\n",
       "    32,\n",
       "    33,\n",
       "    34,\n",
       "    35,\n",
       "    36,\n",
       "    37,\n",
       "    38,\n",
       "    39,\n",
       "    40,\n",
       "    41,\n",
       "    42],\n",
       "   'conformers': [{'x': [9.2365,\n",
       "      8.8764,\n",
       "      10.5236,\n",
       "      5.3442,\n",
       "      8.2854,\n",
       "      6.5715,\n",
       "      8.2854,\n",
       "      7.2771,\n",
       "      9.2365,\n",
       "      7.2771,\n",
       "      9.8243,\n",
       "      10.6333,\n",
       "      10.6333,\n",
       "      9.5455,\n",
       "      5.605,\n",
       "      4.8994,\n",
       "      3.9329,\n",
       "      3.2273,\n",
       "      3.6721,\n",
       "      2.2608,\n",
       "      2.7057,\n",
       "      2,\n",
       "      8.1542,\n",
       "      6.7041,\n",
       "      8.7981,\n",
       "      6.6571,\n",
       "      7.2788,\n",
       "      10.9977,\n",
       "      11.1349,\n",
       "      10.2688,\n",
       "      10.2688,\n",
       "      11.1349,\n",
       "      10.9977,\n",
       "      6.7332,\n",
       "      9.0679,\n",
       "      5.408,\n",
       "      4.6385,\n",
       "      3.389,\n",
       "      4.1096,\n",
       "      1.8233,\n",
       "      2.544,\n",
       "      1.4008],\n",
       "     'y': [1.2974,\n",
       "      -2.0149,\n",
       "      -1.4796,\n",
       "      0.4788,\n",
       "      -0.0116,\n",
       "      1.7011,\n",
       "      0.9884,\n",
       "      0.9925,\n",
       "      -0.3207,\n",
       "      -0.0158,\n",
       "      0.4884,\n",
       "      1.0762,\n",
       "      -0.0994,\n",
       "      -1.2717,\n",
       "      1.4442,\n",
       "      2.1528,\n",
       "      1.896,\n",
       "      2.6045,\n",
       "      0.9306,\n",
       "      2.3477,\n",
       "      0.6737,\n",
       "      1.3823,\n",
       "      1.8282,\n",
       "      0.7558,\n",
       "      -0.7591,\n",
       "      -0.0166,\n",
       "      -0.6358,\n",
       "      0.5746,\n",
       "      1.4406,\n",
       "      1.5777,\n",
       "      -0.601,\n",
       "      -0.4639,\n",
       "      0.4022,\n",
       "      2.2996,\n",
       "      -2.6045,\n",
       "      2.5074,\n",
       "      2.7152,\n",
       "      3.2031,\n",
       "      0.4913,\n",
       "      2.787,\n",
       "      0.0752,\n",
       "      1.2231],\n",
       "     'style': {'annotation': [6, 5, 6, 8, 8, 8, 8, 8, 8],\n",
       "      'aid1': [7, 8, 9, 17, 17, 18, 19, 20, 21],\n",
       "      'aid2': [23, 6, 14, 18, 19, 20, 21, 22, 22]}}]}],\n",
       " 'charge': 0,\n",
       " 'props': [{'urn': {'label': 'Compound',\n",
       "    'name': 'Canonicalized',\n",
       "    'datatype': 5,\n",
       "    'release': '2025.04.14'},\n",
       "   'value': {'ival': 1}},\n",
       "  {'urn': {'label': 'Compound Complexity',\n",
       "    'datatype': 7,\n",
       "    'implementation': 'E_COMPLEXITY',\n",
       "    'version': '3.4.8.18',\n",
       "    'software': 'Cactvs',\n",
       "    'source': 'Xemistry GmbH',\n",
       "    'release': '2025.04.14'},\n",
       "   'value': {'fval': 462}},\n",
       "  {'urn': {'label': 'Count',\n",
       "    'name': 'Hydrogen Bond Acceptor',\n",
       "    'datatype': 5,\n",
       "    'implementation': 'E_NHACCEPTORS',\n",
       "    'version': '3.4.8.18',\n",
       "    'software': 'Cactvs',\n",
       "    'source': 'Xemistry GmbH',\n",
       "    'release': '2025.04.14'},\n",
       "   'value': {'ival': 5}},\n",
       "  {'urn': {'label': 'Count',\n",
       "    'name': 'Hydrogen Bond Donor',\n",
       "    'datatype': 5,\n",
       "    'implementation': 'E_NHDONORS',\n",
       "    'version': '3.4.8.18',\n",
       "    'software': 'Cactvs',\n",
       "    'source': 'Xemistry GmbH',\n",
       "    'release': '2025.04.14'},\n",
       "   'value': {'ival': 2}},\n",
       "  {'urn': {'label': 'Count',\n",
       "    'name': 'Rotatable Bond',\n",
       "    'datatype': 5,\n",
       "    'implementation': 'E_NROTBONDS',\n",
       "    'version': '3.4.8.18',\n",
       "    'software': 'Cactvs',\n",
       "    'source': 'Xemistry GmbH',\n",
       "    'release': '2025.04.14'},\n",
       "   'value': {'ival': 4}},\n",
       "  {'urn': {'label': 'Fingerprint',\n",
       "    'name': 'SubStructure Keys',\n",
       "    'datatype': 16,\n",
       "    'parameters': 'extended 2',\n",
       "    'implementation': 'E_SCREEN',\n",
       "    'version': '3.4.8.18',\n",
       "    'software': 'Cactvs',\n",
       "    'source': 'Xemistry GmbH',\n",
       "    'release': '2025.04.14'},\n",
       "   'value': {'binary': '00000371E07B3000400000000000000000000000580160000000300000000580000000010000001E04100800000C28C5D804B20883C00208880221D218000200006000100888818800880A6032A09531946000249600B888071888808E00000000000000000000000000000000000000000000'}},\n",
       "  {'urn': {'label': 'IUPAC Name',\n",
       "    'name': 'Allowed',\n",
       "    'datatype': 1,\n",
       "    'version': '2.7.0',\n",
       "    'software': 'Lexichem TK',\n",
       "    'source': 'OpenEye Scientific Software',\n",
       "    'release': '2025.04.14'},\n",
       "   'value': {'sval': '(2S,5R,6R)-3,3-dimethyl-6-[(2-phenylacetyl)amino]-4-thia-1-azabicyclo[3.2.0]heptane-2-carboxylic acid'}},\n",
       "  {'urn': {'label': 'IUPAC Name',\n",
       "    'name': 'CAS-like Style',\n",
       "    'datatype': 1,\n",
       "    'version': '2.7.0',\n",
       "    'software': 'Lexichem TK',\n",
       "    'source': 'OpenEye Scientific Software',\n",
       "    'release': '2025.04.14'},\n",
       "   'value': {'sval': '(2S,5R,6R)-3,3-dimethyl-6-[(1-oxo-2-phenylethyl)amino]-4-thia-1-azabicyclo[3.2.0]heptane-2-carboxylic acid'}},\n",
       "  {'urn': {'label': 'IUPAC Name',\n",
       "    'name': 'Markup',\n",
       "    'datatype': 1,\n",
       "    'version': '2.7.0',\n",
       "    'software': 'Lexichem TK',\n",
       "    'source': 'OpenEye Scientific Software',\n",
       "    'release': '2025.04.14'},\n",
       "   'value': {'sval': '(2<I>S</I>,5<I>R</I>,6<I>R</I>)-3,3-dimethyl-6-[(2-phenylacetyl)amino]-4-thia-1-azabicyclo[3.2.0]heptane-2-carboxylic acid'}},\n",
       "  {'urn': {'label': 'IUPAC Name',\n",
       "    'name': 'Preferred',\n",
       "    'datatype': 1,\n",
       "    'version': '2.7.0',\n",
       "    'software': 'Lexichem TK',\n",
       "    'source': 'OpenEye Scientific Software',\n",
       "    'release': '2025.04.14'},\n",
       "   'value': {'sval': '(2S,5R,6R)-3,3-dimethyl-6-[(2-phenylacetyl)amino]-4-thia-1-azabicyclo[3.2.0]heptane-2-carboxylic acid'}},\n",
       "  {'urn': {'label': 'IUPAC Name',\n",
       "    'name': 'Systematic',\n",
       "    'datatype': 1,\n",
       "    'version': '2.7.0',\n",
       "    'software': 'Lexichem TK',\n",
       "    'source': 'OpenEye Scientific Software',\n",
       "    'release': '2025.04.14'},\n",
       "   'value': {'sval': '(2S,5R,6R)-3,3-dimethyl-6-(2-phenylethanoylamino)-4-thia-1-azabicyclo[3.2.0]heptane-2-carboxylic acid'}},\n",
       "  {'urn': {'label': 'IUPAC Name',\n",
       "    'name': 'Traditional',\n",
       "    'datatype': 1,\n",
       "    'version': '2.7.0',\n",
       "    'software': 'Lexichem TK',\n",
       "    'source': 'OpenEye Scientific Software',\n",
       "    'release': '2025.04.14'},\n",
       "   'value': {'sval': '(2S,5R,6R)-3,3-dimethyl-6-[(2-phenylacetyl)amino]-4-thia-1-azabicyclo[3.2.0]heptane-2-carboxylic acid'}},\n",
       "  {'urn': {'label': 'InChI',\n",
       "    'name': 'Standard',\n",
       "    'datatype': 1,\n",
       "    'version': '1.07.2',\n",
       "    'software': 'InChI',\n",
       "    'source': 'iupac.org',\n",
       "    'release': '2025.04.14'},\n",
       "   'value': {'sval': 'InChI=1S/C16H20N2O3S/c1-16(2)13(15(20)21)18-9-11(14(18)22-16)17-12(19)8-10-6-4-3-5-7-10/h3-7,11,13-14H,8-9H2,1-2H3,(H,17,19)(H,20,21)/t11-,13+,14-/m1/s1'}},\n",
       "  {'urn': {'label': 'InChIKey',\n",
       "    'name': 'Standard',\n",
       "    'datatype': 1,\n",
       "    'version': '1.07.2',\n",
       "    'software': 'InChI',\n",
       "    'source': 'iupac.org',\n",
       "    'release': '2025.04.14'},\n",
       "   'value': {'sval': 'WAYJCOBMBRPWED-KWCYVHTRSA-N'}},\n",
       "  {'urn': {'label': 'Log P',\n",
       "    'name': 'XLogP3-AA',\n",
       "    'datatype': 7,\n",
       "    'version': '3.0',\n",
       "    'source': 'sioc-ccbg.ac.cn',\n",
       "    'release': '2025.04.14'},\n",
       "   'value': {'fval': -0.4}},\n",
       "  {'urn': {'label': 'Mass',\n",
       "    'name': 'Exact',\n",
       "    'datatype': 1,\n",
       "    'version': '2.2',\n",
       "    'software': 'PubChem',\n",
       "    'source': 'ncbi.nlm.nih.gov',\n",
       "    'release': '2025.04.14'},\n",
       "   'value': {'sval': '320.11946368'}},\n",
       "  {'urn': {'label': 'Molecular Formula',\n",
       "    'datatype': 1,\n",
       "    'version': '2.2',\n",
       "    'software': 'PubChem',\n",
       "    'source': 'ncbi.nlm.nih.gov',\n",
       "    'release': '2025.04.14'},\n",
       "   'value': {'sval': 'C16H20N2O3S'}},\n",
       "  {'urn': {'label': 'Molecular Weight',\n",
       "    'datatype': 1,\n",
       "    'version': '2.2',\n",
       "    'software': 'PubChem',\n",
       "    'source': 'ncbi.nlm.nih.gov',\n",
       "    'release': '2025.04.14'},\n",
       "   'value': {'sval': '320.4'}},\n",
       "  {'urn': {'label': 'SMILES',\n",
       "    'name': 'Absolute',\n",
       "    'datatype': 1,\n",
       "    'version': '2.3.0',\n",
       "    'software': 'OEChem',\n",
       "    'source': 'OpenEye Scientific Software',\n",
       "    'release': '2025.04.14'},\n",
       "   'value': {'sval': 'CC1([C@@H](N2C[C@H]([C@H]2S1)NC(=O)CC3=CC=CC=C3)C(=O)O)C'}},\n",
       "  {'urn': {'label': 'SMILES',\n",
       "    'name': 'Canonical',\n",
       "    'datatype': 1,\n",
       "    'version': '2.3.0',\n",
       "    'software': 'OEChem',\n",
       "    'source': 'OpenEye Scientific Software',\n",
       "    'release': '2025.04.14'},\n",
       "   'value': {'sval': 'CC1(C(N2CC(C2S1)NC(=O)CC3=CC=CC=C3)C(=O)O)C'}},\n",
       "  {'urn': {'label': 'SMILES',\n",
       "    'name': 'Isomeric',\n",
       "    'datatype': 1,\n",
       "    'version': '2.3.0',\n",
       "    'software': 'OEChem',\n",
       "    'source': 'OpenEye Scientific Software',\n",
       "    'release': '2025.04.14'},\n",
       "   'value': {'sval': 'CC1([C@@H](N2C[C@H]([C@H]2S1)NC(=O)CC3=CC=CC=C3)C(=O)O)C'}},\n",
       "  {'urn': {'label': 'Topological',\n",
       "    'name': 'Polar Surface Area',\n",
       "    'datatype': 7,\n",
       "    'implementation': 'E_TPSA',\n",
       "    'version': '3.4.8.18',\n",
       "    'software': 'Cactvs',\n",
       "    'source': 'Xemistry GmbH',\n",
       "    'release': '2025.04.14'},\n",
       "   'value': {'fval': 94.9}},\n",
       "  {'urn': {'label': 'Weight',\n",
       "    'name': 'MonoIsotopic',\n",
       "    'datatype': 1,\n",
       "    'version': '2.2',\n",
       "    'software': 'PubChem',\n",
       "    'source': 'ncbi.nlm.nih.gov',\n",
       "    'release': '2025.04.14'},\n",
       "   'value': {'sval': '320.11946368'}}],\n",
       " 'count': {'heavy_atom': 22,\n",
       "  'atom_chiral': 3,\n",
       "  'atom_chiral_def': 3,\n",
       "  'atom_chiral_undef': 0,\n",
       "  'bond_chiral': 0,\n",
       "  'bond_chiral_def': 0,\n",
       "  'bond_chiral_undef': 0,\n",
       "  'isotope_atom': 0,\n",
       "  'covalent_unit': 1,\n",
       "  'tautomers': -1}}"
      ]
     },
     "execution_count": 16,
     "metadata": {},
     "output_type": "execute_result"
    }
   ],
   "source": [
    "penicillin.record\n"
   ]
  },
  {
   "cell_type": "code",
   "execution_count": 17,
   "id": "10b2e208",
   "metadata": {},
   "outputs": [],
   "source": [
    "results = pcp.get_compounds('penicillin','name', record_type='3d')\n",
    "penicillin3d = results[0]"
   ]
  },
  {
   "cell_type": "code",
   "execution_count": 18,
   "id": "f8d53f45",
   "metadata": {},
   "outputs": [
    {
     "data": {
      "text/plain": [
       "[Atom(1, S),\n",
       " Atom(2, O),\n",
       " Atom(3, O),\n",
       " Atom(4, O),\n",
       " Atom(5, N),\n",
       " Atom(6, N),\n",
       " Atom(7, C),\n",
       " Atom(8, C),\n",
       " Atom(9, C),\n",
       " Atom(10, C),\n",
       " Atom(11, C),\n",
       " Atom(12, C),\n",
       " Atom(13, C),\n",
       " Atom(14, C),\n",
       " Atom(15, C),\n",
       " Atom(16, C),\n",
       " Atom(17, C),\n",
       " Atom(18, C),\n",
       " Atom(19, C),\n",
       " Atom(20, C),\n",
       " Atom(21, C),\n",
       " Atom(22, C),\n",
       " Atom(23, H),\n",
       " Atom(24, H),\n",
       " Atom(25, H),\n",
       " Atom(26, H),\n",
       " Atom(27, H),\n",
       " Atom(28, H),\n",
       " Atom(29, H),\n",
       " Atom(30, H),\n",
       " Atom(31, H),\n",
       " Atom(32, H),\n",
       " Atom(33, H),\n",
       " Atom(34, H),\n",
       " Atom(35, H),\n",
       " Atom(36, H),\n",
       " Atom(37, H),\n",
       " Atom(38, H),\n",
       " Atom(39, H),\n",
       " Atom(40, H),\n",
       " Atom(41, H),\n",
       " Atom(42, H)]"
      ]
     },
     "execution_count": 18,
     "metadata": {},
     "output_type": "execute_result"
    }
   ],
   "source": [
    "penicillin3d.atoms"
   ]
  },
  {
   "cell_type": "code",
   "execution_count": 19,
   "id": "5243f07e",
   "metadata": {},
   "outputs": [
    {
     "data": {
      "text/plain": [
       "Atom(1, S)"
      ]
     },
     "execution_count": 19,
     "metadata": {},
     "output_type": "execute_result"
    }
   ],
   "source": [
    "penicillin3d.atoms[0]"
   ]
  },
  {
   "cell_type": "markdown",
   "id": "82396524",
   "metadata": {},
   "source": [
    "This is an object (uppercase, looks weird).  objects have extra stuff if you use the dot.  Let's see what it has:"
   ]
  },
  {
   "cell_type": "markdown",
   "id": "4a84c11b",
   "metadata": {
    "jp-MarkdownHeadingCollapsed": true
   },
   "source": [
    "# print some information"
   ]
  },
  {
   "cell_type": "code",
   "execution_count": 20,
   "id": "1ba157d6",
   "metadata": {},
   "outputs": [
    {
     "name": "stdout",
     "output_type": "stream",
     "text": [
      "S, 2.6826, -1.1919, -1.7048\n",
      "O, 1.4653, 2.7152, 0.7974\n",
      "O, 3.2411, 1.8058, 1.8997\n",
      "O, -1.6554, -2.3145, 1.1331\n",
      "N, 2.5149, -0.6582, 0.9748\n",
      "N, 0.0054, -1.7908, -0.4004\n",
      "C, 2.5739, -1.796, 0.0221\n",
      "C, 1.1441, -2.1947, 0.4294\n",
      "C, 2.0809, 0.5244, 0.2071\n",
      "C, 1.3763, -1.3089, 1.6646\n",
      "C, 2.8566, 0.5437, -1.1261\n",
      "C, 2.2148, 1.4794, -2.1532\n",
      "C, 4.3557, 0.8506, -0.9895\n",
      "C, 2.3503, 1.7246, 1.0671\n",
      "C, -1.3162, -1.888, 0.0322\n",
      "C, -2.2948, -1.4076, -1.0215\n",
      "C, -3.1451, -0.2524, -0.5631\n",
      "C, -4.3672, -0.4917, 0.0652\n",
      "C, -2.7104, 1.0571, -0.7669\n",
      "C, -5.1547, 0.5786, 0.4897\n",
      "C, -3.4978, 2.1274, -0.3425\n",
      "C, -4.7201, 1.8881, 0.2857\n",
      "H, 3.3364, -2.5394, 0.2809\n",
      "H, 1.0597, -3.2618, 0.6726\n",
      "H, 0.9989, 0.5124, 0.0135\n",
      "H, 0.5584, -0.6488, 1.9745\n",
      "H, 1.6879, -1.8765, 2.5508\n",
      "H, 1.1475, 1.2679, -2.2876\n",
      "H, 2.303, 2.5249, -1.8378\n",
      "H, 2.6999, 1.3965, -3.133\n",
      "H, 4.5141, 1.886, -0.667\n",
      "H, 4.8547, 0.2024, -0.2605\n",
      "H, 4.8759, 0.7359, -1.9483\n",
      "H, 0.1815, -1.4274, -1.3338\n",
      "H, 1.6249, 3.5097, 1.3501\n",
      "H, -2.9322, -2.2608, -1.2873\n",
      "H, -1.7805, -1.1326, -1.9503\n",
      "H, -4.7161, -1.5075, 0.2313\n",
      "H, -1.7584, 1.2557, -1.2523\n",
      "H, -6.1061, 0.3922, 0.9793\n",
      "H, -3.1589, 3.1471, -0.5003\n",
      "H, -5.3329, 2.7215, 0.6165\n"
     ]
    }
   ],
   "source": [
    "for atom in penicillin3d.atoms:\n",
    "    print (f\"{atom.element}, {atom.x}, {atom.y}, {atom.z}\")"
   ]
  },
  {
   "cell_type": "markdown",
   "id": "32c9b16a",
   "metadata": {
    "jp-MarkdownHeadingCollapsed": true
   },
   "source": [
    "# search for similar structures:\n",
    "penicillin has a beta-lactam (4 member ring) with thiazolidine (5-member_ ring)"
   ]
  },
  {
   "cell_type": "code",
   "execution_count": 21,
   "id": "41388053",
   "metadata": {},
   "outputs": [],
   "source": [
    "results = pcp.get_compounds(penicillin.cid, searchtype='similarity')"
   ]
  },
  {
   "cell_type": "code",
   "execution_count": 22,
   "id": "e4a33960",
   "metadata": {},
   "outputs": [
    {
     "name": "stdout",
     "output_type": "stream",
     "text": [
      "[Compound(5904), Compound(6249), Compound(23664709), Compound(23663979), Compound(23668834), Compound(23565), Compound(52946032), Compound(640429), Compound(2349), Compound(6713928), Compound(10250769), Compound(15574941), Compound(2174), Compound(7048611), Compound(39031), Compound(445702), Compound(65054), Compound(443984), Compound(25195407), Compound(255293), Compound(98994), Compound(517573), Compound(20055036), Compound(2825766), Compound(24746778), Compound(71797), Compound(448911), Compound(23682214), Compound(71796), Compound(6914605), Compound(5244176), Compound(3246457), Compound(3085040), Compound(197739), Compound(197868), Compound(23699504), Compound(44134885), Compound(3034014), Compound(23701796), Compound(16051961), Compound(23684994), Compound(23716482), Compound(4084), Compound(107496), Compound(46174099), Compound(101718), Compound(121494077), Compound(199209), Compound(6604512), Compound(139593604), Compound(23689391), Compound(10363242), Compound(44377540), Compound(23566), Compound(640430), Compound(5493108), Compound(5745670), Compound(5746177), Compound(70679304), Compound(102263598), Compound(447453), Compound(9543435), Compound(53364402), Compound(14544462), Compound(23684645), Compound(44295332), Compound(44318480), Compound(44318722), Compound(24498), Compound(119212), Compound(189768), Compound(209816), Compound(3082549), Compound(45357485), Compound(46906046), Compound(56843323), Compound(72199434), Compound(10132486), Compound(13795), Compound(16759270), Compound(7061055), Compound(44314524), Compound(4729), Compound(21115082), Compound(71309518), Compound(5289182), Compound(5289386), Compound(12300047), Compound(129069), Compound(168024), Compound(189810), Compound(6453491), Compound(23724855), Compound(453799), Compound(12306098), Compound(12309626), Compound(13876803), Compound(15574945), Compound(16213021), Compound(18528115), Compound(23618702), Compound(23671221), Compound(57048972), Compound(57288409), Compound(69573226), Compound(129712129), Compound(103613), Compound(272813), Compound(21121983), Compound(21853591), Compound(24776141), Compound(44273672), Compound(44314457), Compound(44314491), Compound(44314511), Compound(44314525), Compound(44340745), Compound(44343502), Compound(44343822), Compound(132472076), Compound(169686), Compound(517294), Compound(6453076), Compound(12309628), Compound(22817776), Compound(25164102), Compound(44150810), Compound(53687438), Compound(53891655), Compound(54043932), Compound(54366405), Compound(54446508), Compound(54534225), Compound(56990020), Compound(67474634), Compound(67474981), Compound(67912132), Compound(68118794), Compound(68119674), Compound(68134642), Compound(68134645), Compound(70367053), Compound(70552798), Compound(70602396), Compound(70602584), Compound(70602686), Compound(70602688), Compound(70602763), Compound(70693553), Compound(71587048), Compound(77298785), Compound(145457301), Compound(145457557), Compound(6604648), Compound(6713834), Compound(2173), Compound(54607813), Compound(118410305), Compound(22814195), Compound(11314074), Compound(13136472), Compound(19850083), Compound(139069069), Compound(92136223), Compound(163410307), Compound(5317), Compound(11349245), Compound(20480250), Compound(23709068), Compound(44356088), Compound(66586969), Compound(76479660), Compound(90872403), Compound(129692576), Compound(129778731), Compound(134881104), Compound(134926860), Compound(134934304), Compound(135056356), Compound(164679926), Compound(71886), Compound(169685), Compound(214340), Compound(2210964), Compound(3075689), Compound(6560153), Compound(6604509), Compound(7329585), Compound(21677307), Compound(24201024), Compound(24892847), Compound(24892854), Compound(25271618), Compound(44457958), Compound(44602472), Compound(45157728), Compound(45157729), Compound(53324782), Compound(54487919), Compound(70367016), Compound(70367018), Compound(71313914), Compound(71586930), Compound(72710697), Compound(76420154), Compound(92449792), Compound(92449793), Compound(137321707), Compound(170454447), Compound(170454619), Compound(170454754), Compound(170454953), Compound(170455443), Compound(170455582), Compound(170456020), Compound(170456261), Compound(172012333), Compound(4083), Compound(334840), Compound(3107547), Compound(20833556), Compound(23616218), Compound(45357349), Compound(53314963), Compound(60148407), Compound(70580489), Compound(123132409), Compound(129010309), Compound(129010311), Compound(15748535), Compound(15748536), Compound(15748537), Compound(20441305), Compound(23674092), Compound(45048777), Compound(101281558), Compound(30148), Compound(31073), Compound(134931), Compound(487526), Compound(1551461), Compound(4713280), Compound(6426610), Compound(6993415), Compound(7087336), Compound(9799076), Compound(9884732), Compound(12203086), Compound(12293936), Compound(12306095), Compound(12306097), Compound(12306103), Compound(12492121), Compound(12492123), Compound(12834184), Compound(12918994), Compound(13136474), Compound(13277546), Compound(13277548), Compound(13281935), Compound(13305623), Compound(15379245), Compound(15574942), Compound(15574943), Compound(18439175), Compound(18595299), Compound(18595301), Compound(18609339), Compound(18631450), Compound(18643908), Compound(19694059), Compound(20209771), Compound(20386254), Compound(20389595), Compound(20389608), Compound(20391268), Compound(20437971), Compound(20534611), Compound(20646538), Compound(20646539), Compound(21128051), Compound(21277126), Compound(21435929), Compound(21493827), Compound(21500067), Compound(21520932), Compound(21548131), Compound(21720718), Compound(22179108), Compound(22298321), Compound(22788378), Compound(22789078), Compound(22789564), Compound(22790706), Compound(22793858), Compound(22793996), Compound(22794457), Compound(22797733), Compound(22799718), Compound(22799719), Compound(22799736), Compound(22799737), Compound(22799744), Compound(22799745), Compound(22801710), Compound(22801755), Compound(22801768), Compound(22805807), Compound(22806950), Compound(22806952), Compound(22807200), Compound(22807202), Compound(22807204), Compound(22809226), Compound(22812736), Compound(22812978), Compound(22816206), Compound(22817777), Compound(22817954), Compound(22820566), Compound(23276487), Compound(23345944), Compound(23424041), Compound(23458753), Compound(23561265), Compound(23664711), Compound(23673266), Compound(23675155), Compound(23675160), Compound(23675161), Compound(23675162), Compound(23688193), Compound(23716479), Compound(40487597), Compound(44398635), Compound(45791821), Compound(45791822), Compound(51690362), Compound(53461780), Compound(53642379), Compound(53643276), Compound(53664198), Compound(53672512), Compound(53676787), Compound(53681146), Compound(53685506), Compound(53690357), Compound(53742820), Compound(53792750), Compound(53817055), Compound(53825243), Compound(53829655), Compound(53877724), Compound(53883519), Compound(53887358), Compound(53894138), Compound(53906862), Compound(53915650), Compound(53916640), Compound(53925000), Compound(53929007), Compound(53939281), Compound(53960066), Compound(53982682), Compound(54021278), Compound(54040875), Compound(54040876), Compound(54049457), Compound(54085714), Compound(54086937), Compound(54088030), Compound(54097827), Compound(54098918), Compound(54111606), Compound(54111698), Compound(54116726), Compound(54135133), Compound(54174418), Compound(54188118), Compound(54197727), Compound(54218631), Compound(54222391), Compound(54283498), Compound(54285427), Compound(54291868), Compound(54297084), Compound(54324630), Compound(54325915), Compound(54336117), Compound(54336566), Compound(54378580), Compound(54383726), Compound(54388332), Compound(54388872), Compound(54398067), Compound(54426189), Compound(54431934), Compound(54435746), Compound(54441373), Compound(54469417), Compound(54482484), Compound(54508411), Compound(54518242), Compound(54529531), Compound(54532644), Compound(54560135), Compound(54563121), Compound(54571137), Compound(56607509), Compound(56614442), Compound(56615258), Compound(56617537), Compound(56619438), Compound(56619548), Compound(56621657), Compound(56622693), Compound(56627471), Compound(56638165), Compound(56980816), Compound(57019978), Compound(57038474), Compound(57061435), Compound(57065271), Compound(57068504), Compound(57078539), Compound(57080763), Compound(57087369), Compound(57097196), Compound(57104489), Compound(57117011), Compound(57136290), Compound(57138114), Compound(57141008), Compound(57147558), Compound(57161228), Compound(57169627), Compound(57172007), Compound(57175670), Compound(57197867), Compound(57199613), Compound(57202065), Compound(57205902), Compound(57218541), Compound(57234093), Compound(57235102), Compound(57237009), Compound(57264272), Compound(57266896), Compound(57271168), Compound(57292544), Compound(57297292), Compound(57299464), Compound(57324688), Compound(57728842), Compound(58734038), Compound(59595649), Compound(59882356), Compound(59882357), Compound(59990916), Compound(60080377), Compound(66586213), Compound(66680909), Compound(66984746), Compound(67108130), Compound(67571025), Compound(67599481), Compound(67637931), Compound(67637933), Compound(67928621), Compound(67928625), Compound(67930134), Compound(67946425), Compound(68117774), Compound(68117780), Compound(68118850), Compound(68119063), Compound(68119507), Compound(68119528), Compound(68120075), Compound(68125868), Compound(68125871), Compound(68126349), Compound(68128121), Compound(68128998), Compound(68128999), Compound(68131356), Compound(68132250), Compound(68132251), Compound(68135184), Compound(68136190), Compound(68141910), Compound(68146589), Compound(68537421), Compound(68634125), Compound(69031502), Compound(69199508), Compound(69289226), Compound(69498337), Compound(69539769), Compound(69539772), Compound(69554537), Compound(70057878), Compound(70184576), Compound(70367006), Compound(70367015), Compound(70367326), Compound(70393006), Compound(70393007), Compound(70393173), Compound(70415029), Compound(70424890), Compound(70425871), Compound(70431480), Compound(70432152), Compound(70432264), Compound(70433835), Compound(70455359), Compound(70455519), Compound(70480339), Compound(70511206), Compound(70516801), Compound(70529422), Compound(70529426), Compound(70532373), Compound(70532657), Compound(70542236), Compound(70550640), Compound(70550917), Compound(70552041), Compound(70552187), Compound(70552277), Compound(70552868), Compound(70571646), Compound(70571652), Compound(70574870), Compound(70575764), Compound(70576229), Compound(70582210), Compound(70588243), Compound(70588249), Compound(70588250), Compound(70588251), Compound(70589862), Compound(70589863), Compound(70591764), Compound(70592415), Compound(70592419), Compound(70595496), Compound(70595666), Compound(70595994), Compound(70599267), Compound(70599268), Compound(70599269), Compound(70599679), Compound(70602311), Compound(70602313), Compound(70602376), Compound(70602485), Compound(70602521), Compound(70602540), Compound(70602602), Compound(70602632), Compound(70602663), Compound(70602666), Compound(70602838), Compound(70603023), Compound(70603902), Compound(70604244), Compound(70604311), Compound(70604348), Compound(70604665), Compound(70605151), Compound(70606057), Compound(70606410), Compound(70606412), Compound(70606611), Compound(70606913), Compound(70607862), Compound(70607863), Compound(70610302), Compound(70611273), Compound(70614921), Compound(70616821), Compound(70620161), Compound(70630414), Compound(70630415), Compound(70630416), Compound(70633727), Compound(70634282), Compound(70634319), Compound(70634537), Compound(70634834), Compound(70635089), Compound(70635444), Compound(70638339), Compound(70638435), Compound(70638436), Compound(70638884), Compound(70682994), Compound(71030992), Compound(71204783), Compound(76413043), Compound(76454977), Compound(76485540), Compound(76494413), Compound(76501243), Compound(76683702), Compound(76683800), Compound(86588305), Compound(86734582), Compound(86735366), Compound(86736687), Compound(86736688), Compound(88528295), Compound(88564441), Compound(88611234), Compound(88611235), Compound(88611239), Compound(88619611), Compound(88619724), Compound(88664099), Compound(88693333), Compound(88693336), Compound(88783030), Compound(88783031), Compound(88784830), Compound(88784833), Compound(88786325), Compound(88822908), Compound(88832216), Compound(88833052), Compound(88837228), Compound(88837675), Compound(88837682), Compound(88841125), Compound(88841126), Compound(89050879), Compound(89695258), Compound(90473365), Compound(118017575), Compound(118033655), Compound(118893677), Compound(122661872), Compound(123427694), Compound(124150259), Compound(129268963), Compound(129318426), Compound(129318427), Compound(129677508), Compound(134249353), Compound(134249354), Compound(134260094), Compound(134260099), Compound(134688892), Compound(135241981), Compound(135354239), Compound(135354240), Compound(138683522), Compound(139950218), Compound(140396202), Compound(140999577), Compound(141449030), Compound(141540519), Compound(141540521), Compound(141544137), Compound(141547181), Compound(141592782), Compound(141594743), Compound(141701422), Compound(141701423), Compound(141829501), Compound(141833193), Compound(142644115), Compound(142653606), Compound(143445877), Compound(143725737), Compound(143725749), Compound(144024358), Compound(144024377), Compound(144024382), Compound(145020441), Compound(145474380), Compound(145474381), Compound(146182499), Compound(146186460), Compound(146263736), Compound(146276010), Compound(146286795), Compound(146286796), Compound(148864428), Compound(149479418), Compound(149572662), Compound(153376061), Compound(153376147), Compound(153387968), Compound(153387970), Compound(153706404), Compound(153708304), Compound(154005764), Compound(154089876), Compound(154388494), Compound(154804303), Compound(154804374), Compound(154996095), Compound(155243784), Compound(156180434), Compound(157437895), Compound(157703539), Compound(157714961), Compound(158861012), Compound(159363973), Compound(159913362), Compound(160894021), Compound(161356463), Compound(161753162), Compound(161753163), Compound(161929643), Compound(162085887), Compound(163432670), Compound(163782390), Compound(163885691), Compound(164071856), Compound(166067856), Compound(166067858), Compound(166736419), Compound(166903582), Compound(167020108), Compound(167044186), Compound(170241417), Compound(170241521), Compound(170407051), Compound(170407121), Compound(172995809), Compound(173000884), Compound(173030127), Compound(173101404), Compound(173102083), Compound(173110058), Compound(173140723), Compound(173164617), Compound(173181969), Compound(13788), Compound(14984), Compound(23557), Compound(31033), Compound(189769), Compound(193745), Compound(222717), Compound(1548924), Compound(1548925), Compound(1548933), Compound(1548934), Compound(1551460), Compound(1595580), Compound(1595581), Compound(1595582), Compound(1595583), Compound(3084757), Compound(3107548), Compound(3316442), Compound(3429499), Compound(3801317), Compound(3801318), Compound(3908900), Compound(4964453), Compound(5702768), Compound(6348204), Compound(6560152), Compound(6560159), Compound(6560160), Compound(6562500), Compound(6562501), Compound(6993156), Compound(6993157), Compound(6996413), Compound(6996414), Compound(6996415), Compound(6996416), Compound(7048612), Compound(7059492), Compound(7059493), Compound(7061054), Compound(7258017), Compound(9803183), Compound(9868587), Compound(9885301), Compound(9976922), Compound(10046883), Compound(10054550), Compound(10072353), Compound(10096571), Compound(10096771), Compound(10251510), Compound(10318303), Compound(10402885), Compound(10431172), Compound(10432272), Compound(10549315), Compound(10647783), Compound(10760233), Compound(10791408), Compound(10830829), Compound(10863261), Compound(10928925), Compound(10936490), Compound(10938933), Compound(10993484), Compound(11046947), Compound(11091819), Compound(11726464), Compound(11726647), Compound(11729503), Compound(11757941), Compound(11892476), Compound(11892477), Compound(11892478), Compound(11892479), Compound(11892480), Compound(11892481), Compound(11892482), Compound(11897800), Compound(11897801), Compound(11897802), Compound(11897803), Compound(11897804), Compound(11897805), Compound(11897806), Compound(11897807), Compound(12203085), Compound(12300046), Compound(12300048), Compound(12306100), Compound(12306101), Compound(12306102), Compound(12306104), Compound(12306106), Compound(12306108), Compound(12306112), Compound(12309625), Compound(12309627), Compound(12802159), Compound(12877874), Compound(13035167), Compound(13036536), Compound(13232689), Compound(13241760), Compound(13488089), Compound(13984371), Compound(14263542), Compound(14263543), Compound(14544463), Compound(14693753), Compound(15000680), Compound(15574946), Compound(16760289), Compound(16760290), Compound(16760292), Compound(16760293), Compound(18223321), Compound(18223663), Compound(18490140), Compound(18490510), Compound(18528116), Compound(19100581), Compound(20007218), Compound(20209724), Compound(20209776), Compound(21115083), Compound(21405451), Compound(21453766), Compound(21624565), Compound(21677281), Compound(21677282), Compound(21677288), Compound(21780973), Compound(21785000), Compound(21826481), Compound(22298320), Compound(22298322), Compound(22298323), Compound(23276920), Compound(23277048), Compound(23619878), Compound(23662370), Compound(23662393), Compound(23689537), Compound(23701533), Compound(23707126), Compound(23710523), Compound(23713609), Compound(23716481), Compound(23725034), Compound(24192061), Compound(24836766), Compound(24846515), Compound(24846553), Compound(24846555), Compound(24846556), Compound(25072314), Compound(25749322), Compound(37888186), Compound(40487593), Compound(40487595), Compound(40487599), Compound(40491407), Compound(40491409), Compound(40491411), Compound(40491413), Compound(40540704), Compound(40598367), Compound(42545883), Compound(42545885), Compound(42609618), Compound(44119921), Compound(44400845), Compound(45038313), Compound(45038314), Compound(45275527), Compound(46191463), Compound(46191464), Compound(46398529), Compound(50742140), Compound(51029599), Compound(51397604), Compound(51397606), Compound(51397608), Compound(51671211), Compound(52913239), Compound(52994229), Compound(53393703), Compound(53432425), Compound(53432426), Compound(53462099), Compound(53463410), Compound(53463857), Compound(53696627), Compound(54465791), Compound(54501715), Compound(54599503), Compound(54609196), Compound(56607090), Compound(56846461), Compound(57347665), Compound(57358181), Compound(57375904), Compound(59188880), Compound(61156727), Compound(61156903), Compound(61161329), Compound(61161536), Compound(62067774), Compound(63790772), Compound(63791103), Compound(63791826), Compound(63792699), Compound(66553151), Compound(68778332), Compound(70392670), Compound(70580495), Compound(70588244), Compound(70588246), Compound(70603407), Compound(70631445), Compound(70631446), Compound(71306760), Compound(71312421), Compound(71312422), Compound(71323547), Compound(71323548), Compound(71358797), Compound(71481125), Compound(71490882), Compound(71538847), Compound(71571513), Compound(71768780), Compound(72195998), Compound(72199435), Compound(73952099), Compound(74346905), Compound(74766515), Compound(75249644), Compound(75534855), Compound(76967799), Compound(76967800), Compound(76974502), Compound(76974503), Compound(77909023), Compound(78950756), Compound(78951139), Compound(78985733), Compound(86308754), Compound(86733385), Compound(87535562), Compound(88564440), Compound(88611240), Compound(88611256), Compound(88693334), Compound(88693337), Compound(88782917), Compound(92045480), Compound(92045481), Compound(92178813), Compound(92210018), Compound(92210019), Compound(92224775), Compound(92264742), Compound(92302535), Compound(92302546), Compound(92302547), Compound(92524891), Compound(95401048), Compound(95401049), Compound(95401050), Compound(95401051), Compound(95560285), Compound(95560286), Compound(95560287), Compound(98143159), Compound(98541653), Compound(98541654), Compound(98541655), Compound(100940472), Compound(100941531), Compound(100941536), Compound(100971661), Compound(100971666), Compound(100971667), Compound(100971668), Compound(100971669), Compound(101043514), Compound(101043515), Compound(101124418), Compound(101386989), Compound(101505298), Compound(101543018), Compound(101611257), Compound(101636071), Compound(101636072), Compound(101643635), Compound(101687772), Compound(101712522), Compound(101712523), Compound(101733171), Compound(101743831), Compound(101821150), Compound(101936319), Compound(102094143), Compound(102250099), Compound(102333523), Compound(102333525), Compound(102333535), Compound(104984408), Compound(108785591), Compound(108795953), Compound(114928398), Compound(117065979), Compound(117065980), Compound(117590587), Compound(119165758), Compound(119165853), Compound(119165899), Compound(119366398), Compound(119366907), Compound(122205625), Compound(122402102), Compound(123133894), Compound(124080930), Compound(124338898), Compound(124765465), Compound(124765466), Compound(124765467), Compound(124765468), Compound(125121168), Compound(125121169), Compound(125462851), Compound(125462852), Compound(125462899), Compound(129371716), Compound(129373315), Compound(129893465), Compound(131698399), Compound(131709111), Compound(131875575), Compound(131878295), Compound(134990441), Compound(135391157), Compound(137704591), Compound(137704592), Compound(139025009), Compound(139025883), Compound(140276733), Compound(141204737), Compound(141552657), Compound(143725744), Compound(145865052), Compound(145874974), Compound(146678560), Compound(148864429), Compound(154809632), Compound(156592303), Compound(162394260), Compound(163165439), Compound(163165440), Compound(163165441), Compound(163165442), Compound(163165443), Compound(163326211), Compound(165358609), Compound(165359270), Compound(165366391), Compound(165366420), Compound(165366643), Compound(165366745), Compound(165366871), Compound(165366878), Compound(165366910), Compound(165366927), Compound(165366928), Compound(165366940), Compound(165367095), Compound(165367191), Compound(168012644), Compound(168318401), Compound(169433510), Compound(169433513), Compound(169434339), Compound(169434340), Compound(169435295), Compound(169435760), Compound(170453053), Compound(171319222), Compound(171319289), Compound(171380718), Compound(172897563), Compound(172990028), Compound(173390852), Compound(173390862), Compound(173418563), Compound(173422107), Compound(173431189), Compound(173435309), Compound(173435310), Compound(173440299), Compound(173443265), Compound(173443533), Compound(173446136), Compound(173452782), Compound(173455094), Compound(173455302), Compound(173830505), Compound(174251582), Compound(174483045), Compound(174491889), Compound(174513669), Compound(174538187), Compound(174579831), Compound(174589530), Compound(174603234), Compound(174787548), Compound(174800524), Compound(174942125), Compound(174942127), Compound(174966611), Compound(175188467), Compound(175345891), Compound(175505522), Compound(175653035), Compound(175674141), Compound(175674142)]\n"
     ]
    }
   ],
   "source": [
    "print (results)"
   ]
  },
  {
   "cell_type": "markdown",
   "id": "1dfa94f0",
   "metadata": {
    "jp-MarkdownHeadingCollapsed": true
   },
   "source": [
    "# print the common name for the first 20 compounds"
   ]
  },
  {
   "cell_type": "code",
   "execution_count": 23,
   "id": "e9917995",
   "metadata": {
    "scrolled": true
   },
   "outputs": [
    {
     "name": "stdout",
     "output_type": "stream",
     "text": [
      "penicillin g\n",
      "ampicillin\n",
      "Penicillin G potassium\n",
      "AMPICILLIN SODIUM\n",
      "Penicillin G sodium\n",
      "AMPICILLIN TRIHYDRATE\n",
      "1406-05-9\n",
      "PICIBANIL\n",
      "Cillin\n",
      "metampicillin\n",
      "PENAMECILLIN\n",
      "Azidocillin\n",
      "Alpen\n",
      "(2S,5R,6R)-6-[[(2R)-2-azaniumyl-2-phenylacetyl]amino]-3,3-dimethyl-7-oxo-4-thia-1-azabicyclo[3.2.0]heptane-2-carboxylate\n",
      "Sulbenicilina\n",
      "D-benzylpenicilloic acid\n",
      "Benethamine penicillin\n",
      "sulbenicillin sodium\n",
      "METAMPICILLIN SODIUM\n",
      "Penilloic acid\n"
     ]
    }
   ],
   "source": [
    "for compound in results[:20]:\n",
    "    if compound.synonyms:\n",
    "        print (compound.synonyms[0])\n",
    "    else:\n",
    "        print (compound.iupac_name)\n",
    "    \n"
   ]
  },
  {
   "cell_type": "markdown",
   "id": "c1facdd0",
   "metadata": {
    "jp-MarkdownHeadingCollapsed": true
   },
   "source": [
    "# make an xyz file to feed into a program like GAMESS.\n",
    "\n",
    "The format of an xyz file is:\n",
    "\n",
    "number of atoms\n",
    "blank line\n",
    "element x y z"
   ]
  },
  {
   "cell_type": "code",
   "execution_count": 24,
   "id": "862e8fee",
   "metadata": {},
   "outputs": [
    {
     "name": "stdout",
     "output_type": "stream",
     "text": [
      "42\n",
      "\n",
      "S     2.6826     -1.1919     -1.7048\n",
      "O     1.4653     2.7152     0.7974\n",
      "O     3.2411     1.8058     1.8997\n",
      "O     -1.6554     -2.3145     1.1331\n",
      "N     2.5149     -0.6582     0.9748\n",
      "N     0.0054     -1.7908     -0.4004\n",
      "C     2.5739     -1.796     0.0221\n",
      "C     1.1441     -2.1947     0.4294\n",
      "C     2.0809     0.5244     0.2071\n",
      "C     1.3763     -1.3089     1.6646\n",
      "C     2.8566     0.5437     -1.1261\n",
      "C     2.2148     1.4794     -2.1532\n",
      "C     4.3557     0.8506     -0.9895\n",
      "C     2.3503     1.7246     1.0671\n",
      "C     -1.3162     -1.888     0.0322\n",
      "C     -2.2948     -1.4076     -1.0215\n",
      "C     -3.1451     -0.2524     -0.5631\n",
      "C     -4.3672     -0.4917     0.0652\n",
      "C     -2.7104     1.0571     -0.7669\n",
      "C     -5.1547     0.5786     0.4897\n",
      "C     -3.4978     2.1274     -0.3425\n",
      "C     -4.7201     1.8881     0.2857\n",
      "H     3.3364     -2.5394     0.2809\n",
      "H     1.0597     -3.2618     0.6726\n",
      "H     0.9989     0.5124     0.0135\n",
      "H     0.5584     -0.6488     1.9745\n",
      "H     1.6879     -1.8765     2.5508\n",
      "H     1.1475     1.2679     -2.2876\n",
      "H     2.303     2.5249     -1.8378\n",
      "H     2.6999     1.3965     -3.133\n",
      "H     4.5141     1.886     -0.667\n",
      "H     4.8547     0.2024     -0.2605\n",
      "H     4.8759     0.7359     -1.9483\n",
      "H     0.1815     -1.4274     -1.3338\n",
      "H     1.6249     3.5097     1.3501\n",
      "H     -2.9322     -2.2608     -1.2873\n",
      "H     -1.7805     -1.1326     -1.9503\n",
      "H     -4.7161     -1.5075     0.2313\n",
      "H     -1.7584     1.2557     -1.2523\n",
      "H     -6.1061     0.3922     0.9793\n",
      "H     -3.1589     3.1471     -0.5003\n",
      "H     -5.3329     2.7215     0.6165\n",
      "\n"
     ]
    }
   ],
   "source": [
    "penicillinStr = f\"{len(penicillin3d.atoms)}\\n\\n\"\n",
    "for atom in penicillin3d.atoms:\n",
    "    penicillinStr += f\"{atom.element}     {atom.x}     {atom.y}     {atom.z}\\n\"\n",
    "print (penicillinStr)"
   ]
  },
  {
   "cell_type": "markdown",
   "id": "83ff4f7d-4aa8-40dc-b421-d4ec61dc2cf3",
   "metadata": {
    "jp-MarkdownHeadingCollapsed": true
   },
   "source": [
    "# view the xyz file with py3Dmol"
   ]
  },
  {
   "cell_type": "code",
   "execution_count": 28,
   "id": "6467e3aa",
   "metadata": {},
   "outputs": [
    {
     "name": "stdout",
     "output_type": "stream",
     "text": [
      "Requirement already satisfied: py3Dmol in /opt/anaconda3/lib/python3.13/site-packages (2.5.1)\n"
     ]
    }
   ],
   "source": [
    "# First, install the missing package\n",
    "!pip install py3Dmol\n",
    "\n",
    "# Then import the required libraries\n",
    "import py3Dmol\n",
    "import ipywidgets as widgets\n",
    "from IPython.display import display"
   ]
  },
  {
   "cell_type": "code",
   "execution_count": 29,
   "id": "8960c8a5",
   "metadata": {},
   "outputs": [
    {
     "data": {
      "application/3dmoljs_load.v0": "<div id=\"3dmolviewer_17510728499897249\"  style=\"position: relative; width: 400px; height: 400px;\">\n        <p id=\"3dmolwarning_17510728499897249\" style=\"background-color:#ffcccc;color:black\">3Dmol.js failed to load for some reason.  Please check your browser console for error messages.<br></p>\n        </div>\n<script>\n\nvar loadScriptAsync = function(uri){\n  return new Promise((resolve, reject) => {\n    //this is to ignore the existence of requirejs amd\n    var savedexports, savedmodule;\n    if (typeof exports !== 'undefined') savedexports = exports;\n    else exports = {}\n    if (typeof module !== 'undefined') savedmodule = module;\n    else module = {}\n\n    var tag = document.createElement('script');\n    tag.src = uri;\n    tag.async = true;\n    tag.onload = () => {\n        exports = savedexports;\n        module = savedmodule;\n        resolve();\n    };\n  var firstScriptTag = document.getElementsByTagName('script')[0];\n  firstScriptTag.parentNode.insertBefore(tag, firstScriptTag);\n});\n};\n\nif(typeof $3Dmolpromise === 'undefined') {\n$3Dmolpromise = null;\n  $3Dmolpromise = loadScriptAsync('https://cdn.jsdelivr.net/npm/3dmol@2.5.1/build/3Dmol-min.js');\n}\n\nvar viewer_17510728499897249 = null;\nvar warn = document.getElementById(\"3dmolwarning_17510728499897249\");\nif(warn) {\n    warn.parentNode.removeChild(warn);\n}\n$3Dmolpromise.then(function() {\nviewer_17510728499897249 = $3Dmol.createViewer(document.getElementById(\"3dmolviewer_17510728499897249\"),{backgroundColor:\"white\"});\nviewer_17510728499897249.zoomTo();\n\tviewer_17510728499897249.addModel(\"42\\n\\nS     2.6826     -1.1919     -1.7048\\nO     1.4653     2.7152     0.7974\\nO     3.2411     1.8058     1.8997\\nO     -1.6554     -2.3145     1.1331\\nN     2.5149     -0.6582     0.9748\\nN     0.0054     -1.7908     -0.4004\\nC     2.5739     -1.796     0.0221\\nC     1.1441     -2.1947     0.4294\\nC     2.0809     0.5244     0.2071\\nC     1.3763     -1.3089     1.6646\\nC     2.8566     0.5437     -1.1261\\nC     2.2148     1.4794     -2.1532\\nC     4.3557     0.8506     -0.9895\\nC     2.3503     1.7246     1.0671\\nC     -1.3162     -1.888     0.0322\\nC     -2.2948     -1.4076     -1.0215\\nC     -3.1451     -0.2524     -0.5631\\nC     -4.3672     -0.4917     0.0652\\nC     -2.7104     1.0571     -0.7669\\nC     -5.1547     0.5786     0.4897\\nC     -3.4978     2.1274     -0.3425\\nC     -4.7201     1.8881     0.2857\\nH     3.3364     -2.5394     0.2809\\nH     1.0597     -3.2618     0.6726\\nH     0.9989     0.5124     0.0135\\nH     0.5584     -0.6488     1.9745\\nH     1.6879     -1.8765     2.5508\\nH     1.1475     1.2679     -2.2876\\nH     2.303     2.5249     -1.8378\\nH     2.6999     1.3965     -3.133\\nH     4.5141     1.886     -0.667\\nH     4.8547     0.2024     -0.2605\\nH     4.8759     0.7359     -1.9483\\nH     0.1815     -1.4274     -1.3338\\nH     1.6249     3.5097     1.3501\\nH     -2.9322     -2.2608     -1.2873\\nH     -1.7805     -1.1326     -1.9503\\nH     -4.7161     -1.5075     0.2313\\nH     -1.7584     1.2557     -1.2523\\nH     -6.1061     0.3922     0.9793\\nH     -3.1589     3.1471     -0.5003\\nH     -5.3329     2.7215     0.6165\\n\",\"xyz\");\n\tviewer_17510728499897249.setStyle({\"stick\": {}});\n\tviewer_17510728499897249.zoomTo();\nviewer_17510728499897249.render();\n});\n</script>",
      "text/html": [
       "<div id=\"3dmolviewer_17510728499897249\"  style=\"position: relative; width: 400px; height: 400px;\">\n",
       "        <p id=\"3dmolwarning_17510728499897249\" style=\"background-color:#ffcccc;color:black\">3Dmol.js failed to load for some reason.  Please check your browser console for error messages.<br></p>\n",
       "        </div>\n",
       "<script>\n",
       "\n",
       "var loadScriptAsync = function(uri){\n",
       "  return new Promise((resolve, reject) => {\n",
       "    //this is to ignore the existence of requirejs amd\n",
       "    var savedexports, savedmodule;\n",
       "    if (typeof exports !== 'undefined') savedexports = exports;\n",
       "    else exports = {}\n",
       "    if (typeof module !== 'undefined') savedmodule = module;\n",
       "    else module = {}\n",
       "\n",
       "    var tag = document.createElement('script');\n",
       "    tag.src = uri;\n",
       "    tag.async = true;\n",
       "    tag.onload = () => {\n",
       "        exports = savedexports;\n",
       "        module = savedmodule;\n",
       "        resolve();\n",
       "    };\n",
       "  var firstScriptTag = document.getElementsByTagName('script')[0];\n",
       "  firstScriptTag.parentNode.insertBefore(tag, firstScriptTag);\n",
       "});\n",
       "};\n",
       "\n",
       "if(typeof $3Dmolpromise === 'undefined') {\n",
       "$3Dmolpromise = null;\n",
       "  $3Dmolpromise = loadScriptAsync('https://cdn.jsdelivr.net/npm/3dmol@2.5.1/build/3Dmol-min.js');\n",
       "}\n",
       "\n",
       "var viewer_17510728499897249 = null;\n",
       "var warn = document.getElementById(\"3dmolwarning_17510728499897249\");\n",
       "if(warn) {\n",
       "    warn.parentNode.removeChild(warn);\n",
       "}\n",
       "$3Dmolpromise.then(function() {\n",
       "viewer_17510728499897249 = $3Dmol.createViewer(document.getElementById(\"3dmolviewer_17510728499897249\"),{backgroundColor:\"white\"});\n",
       "viewer_17510728499897249.zoomTo();\n",
       "\tviewer_17510728499897249.addModel(\"42\\n\\nS     2.6826     -1.1919     -1.7048\\nO     1.4653     2.7152     0.7974\\nO     3.2411     1.8058     1.8997\\nO     -1.6554     -2.3145     1.1331\\nN     2.5149     -0.6582     0.9748\\nN     0.0054     -1.7908     -0.4004\\nC     2.5739     -1.796     0.0221\\nC     1.1441     -2.1947     0.4294\\nC     2.0809     0.5244     0.2071\\nC     1.3763     -1.3089     1.6646\\nC     2.8566     0.5437     -1.1261\\nC     2.2148     1.4794     -2.1532\\nC     4.3557     0.8506     -0.9895\\nC     2.3503     1.7246     1.0671\\nC     -1.3162     -1.888     0.0322\\nC     -2.2948     -1.4076     -1.0215\\nC     -3.1451     -0.2524     -0.5631\\nC     -4.3672     -0.4917     0.0652\\nC     -2.7104     1.0571     -0.7669\\nC     -5.1547     0.5786     0.4897\\nC     -3.4978     2.1274     -0.3425\\nC     -4.7201     1.8881     0.2857\\nH     3.3364     -2.5394     0.2809\\nH     1.0597     -3.2618     0.6726\\nH     0.9989     0.5124     0.0135\\nH     0.5584     -0.6488     1.9745\\nH     1.6879     -1.8765     2.5508\\nH     1.1475     1.2679     -2.2876\\nH     2.303     2.5249     -1.8378\\nH     2.6999     1.3965     -3.133\\nH     4.5141     1.886     -0.667\\nH     4.8547     0.2024     -0.2605\\nH     4.8759     0.7359     -1.9483\\nH     0.1815     -1.4274     -1.3338\\nH     1.6249     3.5097     1.3501\\nH     -2.9322     -2.2608     -1.2873\\nH     -1.7805     -1.1326     -1.9503\\nH     -4.7161     -1.5075     0.2313\\nH     -1.7584     1.2557     -1.2523\\nH     -6.1061     0.3922     0.9793\\nH     -3.1589     3.1471     -0.5003\\nH     -5.3329     2.7215     0.6165\\n\",\"xyz\");\n",
       "\tviewer_17510728499897249.setStyle({\"stick\": {}});\n",
       "\tviewer_17510728499897249.zoomTo();\n",
       "viewer_17510728499897249.render();\n",
       "});\n",
       "</script>"
      ]
     },
     "metadata": {},
     "output_type": "display_data"
    }
   ],
   "source": [
    "# Create a view instance with default settings\n",
    "view=py3Dmol.view(width=400, height=400)\n",
    "\n",
    "# Then use the instance to add the model\n",
    "view.addModel(penicillinStr, 'xyz')\n",
    "\n",
    "# Set visualization style (optional)\n",
    "view.setStyle({'stick':{}})\n",
    "\n",
    "# Render the view\n",
    "view.zoomTo()\n",
    "view.show()"
   ]
  },
  {
   "cell_type": "markdown",
   "id": "77dd5ea8",
   "metadata": {
    "jp-MarkdownHeadingCollapsed": true
   },
   "source": [
    "# view one of the similar compounds we found earlier"
   ]
  },
  {
   "cell_type": "code",
   "execution_count": 30,
   "id": "c0aaefe5",
   "metadata": {},
   "outputs": [
    {
     "name": "stdout",
     "output_type": "stream",
     "text": [
      "45\n",
      "\n",
      "S     -1.526     1.3227     0.6352\n",
      "S     4.0938     -1.6318     -0.2337\n",
      "O     -2.3604     -2.5948     -1.2003\n",
      "O     -5.7857     0.0791     -1.4836\n",
      "O     -5.6281     -0.7216     0.6447\n",
      "O     1.7316     -1.5796     1.6338\n",
      "O     3.4259     -3.1191     -0.2589\n",
      "O     4.613     -1.374     1.0959\n",
      "O     4.9165     -1.4688     -1.4174\n",
      "N     -2.9136     -0.8394     0.2772\n",
      "N     0.2367     -1.1021     -0.0742\n",
      "C     -1.8725     -0.3823     1.2025\n",
      "C     -3.2899     1.5365     0.0763\n",
      "C     -3.67     0.1439     -0.4713\n",
      "C     -0.9757     -1.4936     0.6401\n",
      "C     -2.1691     -1.8434     -0.2711\n",
      "C     -3.3382     2.5999     -1.0222\n",
      "C     -4.1167     1.9924     1.2863\n",
      "C     -5.1149     -0.2205     -0.3446\n",
      "C     1.5108     -1.1794     0.4928\n",
      "C     2.6009     -0.7093     -0.4511\n",
      "C     2.9498     0.7493     -0.2821\n",
      "C     3.4065     1.4882     -1.3736\n",
      "C     2.8151     1.3588     0.9655\n",
      "C     3.7288     2.8363     -1.2175\n",
      "C     3.1373     2.7069     1.1214\n",
      "C     3.5941     3.4456     0.0298\n",
      "H     -2.162     -0.4849     2.2522\n",
      "H     -3.3714     0.0342     -1.5231\n",
      "H     -0.7823     -2.2995     1.3599\n",
      "H     -3.0007     3.5761     -0.655\n",
      "H     -2.7119     2.3295     -1.8802\n",
      "H     -4.3617     2.7263     -1.393\n",
      "H     -3.7339     2.9326     1.7012\n",
      "H     -5.1594     2.1747     1.0019\n",
      "H     -4.1214     1.25     2.0921\n",
      "H     0.1611     -0.7379     -1.0212\n",
      "H     2.2766     -0.8972     -1.4828\n",
      "H     -6.7368     -0.1528     -1.4204\n",
      "H     3.5143     1.0266     -2.3514\n",
      "H     2.477     0.8171     1.8426\n",
      "H     3.0867     -3.4171     -1.1356\n",
      "H     4.0842     3.4117     -2.0673\n",
      "H     3.0356     3.1812     2.0932\n",
      "H     3.8456     4.4952     0.1516\n",
      "\n"
     ]
    }
   ],
   "source": [
    "results = pcp.get_compounds('sulbenicillin','name', record_type='3d')\n",
    "sulbenicillin3d = results[0]\n",
    "sulbenicillinStr = f\"{len(sulbenicillin3d.atoms)}\\n\\n\"\n",
    "for atom in sulbenicillin3d.atoms:\n",
    "    sulbenicillinStr += f\"{atom.element}     {atom.x}     {atom.y}     {atom.z}\\n\"\n",
    "print (sulbenicillinStr)"
   ]
  },
  {
   "cell_type": "code",
   "execution_count": 32,
   "id": "0a5f4584",
   "metadata": {},
   "outputs": [
    {
     "data": {
      "application/3dmoljs_load.v0": "<div id=\"3dmolviewer_1751072982034816\"  style=\"position: relative; width: 640px; height: 480px;\">\n        <p id=\"3dmolwarning_1751072982034816\" style=\"background-color:#ffcccc;color:black\">3Dmol.js failed to load for some reason.  Please check your browser console for error messages.<br></p>\n        </div>\n<script>\n\nvar loadScriptAsync = function(uri){\n  return new Promise((resolve, reject) => {\n    //this is to ignore the existence of requirejs amd\n    var savedexports, savedmodule;\n    if (typeof exports !== 'undefined') savedexports = exports;\n    else exports = {}\n    if (typeof module !== 'undefined') savedmodule = module;\n    else module = {}\n\n    var tag = document.createElement('script');\n    tag.src = uri;\n    tag.async = true;\n    tag.onload = () => {\n        exports = savedexports;\n        module = savedmodule;\n        resolve();\n    };\n  var firstScriptTag = document.getElementsByTagName('script')[0];\n  firstScriptTag.parentNode.insertBefore(tag, firstScriptTag);\n});\n};\n\nif(typeof $3Dmolpromise === 'undefined') {\n$3Dmolpromise = null;\n  $3Dmolpromise = loadScriptAsync('https://cdn.jsdelivr.net/npm/3dmol@2.5.1/build/3Dmol-min.js');\n}\n\nvar viewer_1751072982034816 = null;\nvar warn = document.getElementById(\"3dmolwarning_1751072982034816\");\nif(warn) {\n    warn.parentNode.removeChild(warn);\n}\n$3Dmolpromise.then(function() {\nviewer_1751072982034816 = $3Dmol.createViewer(document.getElementById(\"3dmolviewer_1751072982034816\"),{backgroundColor:\"white\"});\nviewer_1751072982034816.zoomTo();\n\tviewer_1751072982034816.addModel(\"45\\n\\nS     -1.526     1.3227     0.6352\\nS     4.0938     -1.6318     -0.2337\\nO     -2.3604     -2.5948     -1.2003\\nO     -5.7857     0.0791     -1.4836\\nO     -5.6281     -0.7216     0.6447\\nO     1.7316     -1.5796     1.6338\\nO     3.4259     -3.1191     -0.2589\\nO     4.613     -1.374     1.0959\\nO     4.9165     -1.4688     -1.4174\\nN     -2.9136     -0.8394     0.2772\\nN     0.2367     -1.1021     -0.0742\\nC     -1.8725     -0.3823     1.2025\\nC     -3.2899     1.5365     0.0763\\nC     -3.67     0.1439     -0.4713\\nC     -0.9757     -1.4936     0.6401\\nC     -2.1691     -1.8434     -0.2711\\nC     -3.3382     2.5999     -1.0222\\nC     -4.1167     1.9924     1.2863\\nC     -5.1149     -0.2205     -0.3446\\nC     1.5108     -1.1794     0.4928\\nC     2.6009     -0.7093     -0.4511\\nC     2.9498     0.7493     -0.2821\\nC     3.4065     1.4882     -1.3736\\nC     2.8151     1.3588     0.9655\\nC     3.7288     2.8363     -1.2175\\nC     3.1373     2.7069     1.1214\\nC     3.5941     3.4456     0.0298\\nH     -2.162     -0.4849     2.2522\\nH     -3.3714     0.0342     -1.5231\\nH     -0.7823     -2.2995     1.3599\\nH     -3.0007     3.5761     -0.655\\nH     -2.7119     2.3295     -1.8802\\nH     -4.3617     2.7263     -1.393\\nH     -3.7339     2.9326     1.7012\\nH     -5.1594     2.1747     1.0019\\nH     -4.1214     1.25     2.0921\\nH     0.1611     -0.7379     -1.0212\\nH     2.2766     -0.8972     -1.4828\\nH     -6.7368     -0.1528     -1.4204\\nH     3.5143     1.0266     -2.3514\\nH     2.477     0.8171     1.8426\\nH     3.0867     -3.4171     -1.1356\\nH     4.0842     3.4117     -2.0673\\nH     3.0356     3.1812     2.0932\\nH     3.8456     4.4952     0.1516\\n\",\"xyz\");\n\tviewer_1751072982034816.setStyle({\"stick\": {}});\n\tviewer_1751072982034816.zoomTo();\nviewer_1751072982034816.render();\n});\n</script>",
      "text/html": [
       "<div id=\"3dmolviewer_1751072982034816\"  style=\"position: relative; width: 640px; height: 480px;\">\n",
       "        <p id=\"3dmolwarning_1751072982034816\" style=\"background-color:#ffcccc;color:black\">3Dmol.js failed to load for some reason.  Please check your browser console for error messages.<br></p>\n",
       "        </div>\n",
       "<script>\n",
       "\n",
       "var loadScriptAsync = function(uri){\n",
       "  return new Promise((resolve, reject) => {\n",
       "    //this is to ignore the existence of requirejs amd\n",
       "    var savedexports, savedmodule;\n",
       "    if (typeof exports !== 'undefined') savedexports = exports;\n",
       "    else exports = {}\n",
       "    if (typeof module !== 'undefined') savedmodule = module;\n",
       "    else module = {}\n",
       "\n",
       "    var tag = document.createElement('script');\n",
       "    tag.src = uri;\n",
       "    tag.async = true;\n",
       "    tag.onload = () => {\n",
       "        exports = savedexports;\n",
       "        module = savedmodule;\n",
       "        resolve();\n",
       "    };\n",
       "  var firstScriptTag = document.getElementsByTagName('script')[0];\n",
       "  firstScriptTag.parentNode.insertBefore(tag, firstScriptTag);\n",
       "});\n",
       "};\n",
       "\n",
       "if(typeof $3Dmolpromise === 'undefined') {\n",
       "$3Dmolpromise = null;\n",
       "  $3Dmolpromise = loadScriptAsync('https://cdn.jsdelivr.net/npm/3dmol@2.5.1/build/3Dmol-min.js');\n",
       "}\n",
       "\n",
       "var viewer_1751072982034816 = null;\n",
       "var warn = document.getElementById(\"3dmolwarning_1751072982034816\");\n",
       "if(warn) {\n",
       "    warn.parentNode.removeChild(warn);\n",
       "}\n",
       "$3Dmolpromise.then(function() {\n",
       "viewer_1751072982034816 = $3Dmol.createViewer(document.getElementById(\"3dmolviewer_1751072982034816\"),{backgroundColor:\"white\"});\n",
       "viewer_1751072982034816.zoomTo();\n",
       "\tviewer_1751072982034816.addModel(\"45\\n\\nS     -1.526     1.3227     0.6352\\nS     4.0938     -1.6318     -0.2337\\nO     -2.3604     -2.5948     -1.2003\\nO     -5.7857     0.0791     -1.4836\\nO     -5.6281     -0.7216     0.6447\\nO     1.7316     -1.5796     1.6338\\nO     3.4259     -3.1191     -0.2589\\nO     4.613     -1.374     1.0959\\nO     4.9165     -1.4688     -1.4174\\nN     -2.9136     -0.8394     0.2772\\nN     0.2367     -1.1021     -0.0742\\nC     -1.8725     -0.3823     1.2025\\nC     -3.2899     1.5365     0.0763\\nC     -3.67     0.1439     -0.4713\\nC     -0.9757     -1.4936     0.6401\\nC     -2.1691     -1.8434     -0.2711\\nC     -3.3382     2.5999     -1.0222\\nC     -4.1167     1.9924     1.2863\\nC     -5.1149     -0.2205     -0.3446\\nC     1.5108     -1.1794     0.4928\\nC     2.6009     -0.7093     -0.4511\\nC     2.9498     0.7493     -0.2821\\nC     3.4065     1.4882     -1.3736\\nC     2.8151     1.3588     0.9655\\nC     3.7288     2.8363     -1.2175\\nC     3.1373     2.7069     1.1214\\nC     3.5941     3.4456     0.0298\\nH     -2.162     -0.4849     2.2522\\nH     -3.3714     0.0342     -1.5231\\nH     -0.7823     -2.2995     1.3599\\nH     -3.0007     3.5761     -0.655\\nH     -2.7119     2.3295     -1.8802\\nH     -4.3617     2.7263     -1.393\\nH     -3.7339     2.9326     1.7012\\nH     -5.1594     2.1747     1.0019\\nH     -4.1214     1.25     2.0921\\nH     0.1611     -0.7379     -1.0212\\nH     2.2766     -0.8972     -1.4828\\nH     -6.7368     -0.1528     -1.4204\\nH     3.5143     1.0266     -2.3514\\nH     2.477     0.8171     1.8426\\nH     3.0867     -3.4171     -1.1356\\nH     4.0842     3.4117     -2.0673\\nH     3.0356     3.1812     2.0932\\nH     3.8456     4.4952     0.1516\\n\",\"xyz\");\n",
       "\tviewer_1751072982034816.setStyle({\"stick\": {}});\n",
       "\tviewer_1751072982034816.zoomTo();\n",
       "viewer_1751072982034816.render();\n",
       "});\n",
       "</script>"
      ]
     },
     "metadata": {},
     "output_type": "display_data"
    }
   ],
   "source": [
    "# Create a view instance with default settings\n",
    "view2=py3Dmol.view()\n",
    "view2.addModel(sulbenicillinStr, 'xyz')\n",
    "\n",
    "# Set visualization style (optional)\n",
    "view2.setStyle({'stick':{}})\n",
    "\n",
    "# Render the view\n",
    "view2.zoomTo()\n",
    "view2.show()"
   ]
  },
  {
   "cell_type": "code",
   "execution_count": null,
   "id": "fd1e421b-4298-47e0-bce0-94d85a1bb9f5",
   "metadata": {},
   "outputs": [],
   "source": []
  }
 ],
 "metadata": {
  "kernelspec": {
   "display_name": "Python [conda env:base] *",
   "language": "python",
   "name": "conda-base-py"
  },
  "language_info": {
   "codemirror_mode": {
    "name": "ipython",
    "version": 3
   },
   "file_extension": ".py",
   "mimetype": "text/x-python",
   "name": "python",
   "nbconvert_exporter": "python",
   "pygments_lexer": "ipython3",
   "version": "3.13.5"
  }
 },
 "nbformat": 4,
 "nbformat_minor": 5
}
